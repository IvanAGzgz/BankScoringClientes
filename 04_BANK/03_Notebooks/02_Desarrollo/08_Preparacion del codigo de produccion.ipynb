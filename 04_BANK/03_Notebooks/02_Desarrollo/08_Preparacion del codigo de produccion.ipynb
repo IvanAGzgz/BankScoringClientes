{
 "cells": [
  {
   "cell_type": "markdown",
   "id": "797ae63f",
   "metadata": {},
   "source": [
    "## IMPORTAR LAS LIBRERIAS"
   ]
  },
  {
   "cell_type": "markdown",
   "id": "64445de1",
   "metadata": {},
   "source": [
    "Actualizar a las que se usen finalmente en tu proyecto."
   ]
  },
  {
   "cell_type": "code",
   "execution_count": 1,
   "id": "ffe7be80",
   "metadata": {},
   "outputs": [],
   "source": [
    "import numpy as np\n",
    "import pandas as pd\n",
    "import cloudpickle\n",
    "\n",
    "#Automcompletar rápido\n",
    "%config IPCompleter.greedy=True\n",
    "\n",
    "from sklearn.preprocessing import OneHotEncoder\n",
    "from sklearn.preprocessing import KBinsDiscretizer\n",
    "from sklearn.preprocessing import Binarizer\n",
    "from sklearn.preprocessing import MinMaxScaler\n",
    "\n",
    "from sklearn.ensemble import RandomForestClassifier\n",
    "\n",
    "from sklearn.pipeline import Pipeline\n",
    "from sklearn.preprocessing import FunctionTransformer\n",
    "from sklearn.compose import make_column_transformer\n",
    "from sklearn.pipeline import make_pipeline\n",
    "\n",
    "import warnings\n",
    "warnings.filterwarnings(\"ignore\")"
   ]
  },
  {
   "cell_type": "markdown",
   "id": "5e12241c",
   "metadata": {},
   "source": [
    "## CARGAR LOS DATOS"
   ]
  },
  {
   "cell_type": "markdown",
   "id": "807b37d3",
   "metadata": {},
   "source": [
    "### Ruta del proyecto"
   ]
  },
  {
   "cell_type": "code",
   "execution_count": 2,
   "id": "5a6711f7",
   "metadata": {},
   "outputs": [],
   "source": [
    "ruta_proyecto = r'C:\\Users\\iagzg\\Desktop\\D4FB\\D4FB\\EstructuraDirectorio\\03_MACHINE_LEARNING\\06-MACHINE LEARNING PROJECT FRAMEWORK\\CASOS\\04_BANK\\\\'"
   ]
  },
  {
   "cell_type": "markdown",
   "id": "89fe9a43",
   "metadata": {},
   "source": [
    "### Nombre del fichero de datos"
   ]
  },
  {
   "cell_type": "code",
   "execution_count": 3,
   "id": "25b345d7",
   "metadata": {},
   "outputs": [],
   "source": [
    "nombre_fichero_datos = 'Bank.csv'"
   ]
  },
  {
   "cell_type": "markdown",
   "id": "765f82e1",
   "metadata": {},
   "source": [
    "### Cargar los datos"
   ]
  },
  {
   "cell_type": "code",
   "execution_count": 4,
   "id": "480494ff",
   "metadata": {},
   "outputs": [],
   "source": [
    "ruta_completa = ruta_proyecto + '/02_Datos/01_Originales/' + nombre_fichero_datos\n",
    "\n",
    "df = pd.read_csv(ruta_completa,sep = ';')"
   ]
  },
  {
   "cell_type": "markdown",
   "id": "454738c9",
   "metadata": {},
   "source": [
    "### Seleccionar solo las variables finales"
   ]
  },
  {
   "cell_type": "markdown",
   "id": "ba546b91",
   "metadata": {},
   "source": [
    "#### Cargar la lista de variables finales"
   ]
  },
  {
   "cell_type": "code",
   "execution_count": 5,
   "id": "26066884",
   "metadata": {},
   "outputs": [
    {
     "data": {
      "text/plain": [
       "['canal_contacto_cellular',\n",
       " 'canal_contacto_telephone',\n",
       " 'dia_semana_fri',\n",
       " 'dia_semana_thu',\n",
       " 'edad_disc_ds_mms',\n",
       " 'estado_married',\n",
       " 'mes_apr',\n",
       " 'mes_dec',\n",
       " 'mes_jul',\n",
       " 'mes_mar',\n",
       " 'mes_may',\n",
       " 'mes_oct',\n",
       " 'prestamo_hipotecario_no',\n",
       " 'prestamo_hipotecario_yes',\n",
       " 'prestamo_personal_no',\n",
       " 'trabajo_admin.',\n",
       " 'trabajo_retired',\n",
       " 'trabajo_student',\n",
       " 'variacion_tasa_empleo_bin_mms']"
      ]
     },
     "execution_count": 5,
     "metadata": {},
     "output_type": "execute_result"
    }
   ],
   "source": [
    "nombre_variables_finales = ruta_proyecto + '/05_Resultados/' + 'variables_finales.pickle'\n",
    "\n",
    "pd.read_pickle(nombre_variables_finales).sort_index().index.to_list()"
   ]
  },
  {
   "cell_type": "markdown",
   "id": "f81f09bf",
   "metadata": {},
   "source": [
    "#### Crear la matriz de variables procesos (excel)"
   ]
  },
  {
   "cell_type": "markdown",
   "id": "735beb13",
   "metadata": {},
   "source": [
    "Ir a la plantilla de Excel \"Fase Producción Plantilla Procesos\" y crear la matriz de variables por procesos.\n",
    "Ubicado en 01_Documentos."
   ]
  },
  {
   "cell_type": "markdown",
   "id": "ee3f31a6",
   "metadata": {},
   "source": [
    "#### Actualizar las importaciones"
   ]
  },
  {
   "cell_type": "markdown",
   "id": "80c12eea",
   "metadata": {},
   "source": [
    "Ir arriba a la celda de importacion de paquetes y actualizarlos con los que finalmente vamos a usar."
   ]
  },
  {
   "cell_type": "markdown",
   "id": "82d05e30",
   "metadata": {},
   "source": [
    "#### Variables finales"
   ]
  },
  {
   "cell_type": "code",
   "execution_count": 6,
   "id": "9232e3ef",
   "metadata": {},
   "outputs": [],
   "source": [
    "variables_finales = ['canal_contacto',\n",
    "                     'dia_semana',\n",
    "                     'edad',\n",
    "                     'estado',\n",
    "                     'mes',\n",
    "                     'prestamo_hipotecario',\n",
    "                     'trabajo',              \n",
    "                     'variacion_tasa_empleo']"
   ]
  },
  {
   "cell_type": "markdown",
   "id": "fe5a706b",
   "metadata": {},
   "source": [
    "## ESTRUCTURA DE LOS DATASETS"
   ]
  },
  {
   "cell_type": "markdown",
   "id": "32cd09e5",
   "metadata": {},
   "source": [
    "### Corregir los nombres"
   ]
  },
  {
   "cell_type": "code",
   "execution_count": 7,
   "id": "f08e56d8",
   "metadata": {},
   "outputs": [],
   "source": [
    "df.rename(columns = {'age':'edad',\n",
    "                     'job':'trabajo',\n",
    "                     'marital':'estado',\n",
    "                     'education':'educacion',\n",
    "                     'default':'impagos',\n",
    "                     'housing':'prestamo_hipotecario',\n",
    "                     'loan':'prestamo_personal',\n",
    "                     'contact':'canal_contacto',\n",
    "                     'month':'mes',\n",
    "                     'day_of_week':'dia_semana',\n",
    "                     'campaign':'num_contactos_esta_semana',\n",
    "                     'pdays':'num_dias_ultimo_contacto',\n",
    "                     'previous':'num_contactos_otras_campañas',\n",
    "                     'poutcome':'resultado_campana_anterior',\n",
    "                     'emp.var.rate':'variacion_tasa_empleo'\n",
    "                    }, inplace=True)"
   ]
  },
  {
   "cell_type": "markdown",
   "id": "a9cd9497",
   "metadata": {},
   "source": [
    "### Eliminar registros"
   ]
  },
  {
   "cell_type": "markdown",
   "id": "4af7dbab",
   "metadata": {},
   "source": [
    "#### Por duplicados"
   ]
  },
  {
   "cell_type": "code",
   "execution_count": 8,
   "id": "361fd5f0",
   "metadata": {},
   "outputs": [],
   "source": [
    "df.drop_duplicates(inplace = True)"
   ]
  },
  {
   "cell_type": "markdown",
   "id": "8a97b348",
   "metadata": {},
   "source": [
    "#### Atipicos"
   ]
  },
  {
   "cell_type": "code",
   "execution_count": 9,
   "id": "39686b20",
   "metadata": {},
   "outputs": [],
   "source": [
    "var_atipicos_dt = ['edad','variacion_tasa_empleo']"
   ]
  },
  {
   "cell_type": "markdown",
   "id": "8ceda3d3",
   "metadata": {},
   "source": [
    "###### Definir el número de desviaciones típicas"
   ]
  },
  {
   "cell_type": "code",
   "execution_count": 10,
   "id": "2b7419cb",
   "metadata": {},
   "outputs": [],
   "source": [
    "num_desv_tip = 4"
   ]
  },
  {
   "cell_type": "markdown",
   "id": "942da237",
   "metadata": {},
   "source": [
    "###### Función que devuelve los índices de los atípicos"
   ]
  },
  {
   "cell_type": "code",
   "execution_count": 11,
   "id": "8a81f494",
   "metadata": {},
   "outputs": [],
   "source": [
    "def atipicos_desv_tip(variable, num_desv_tip = 4):\n",
    "    #sacamos los nulos por ahora\n",
    "    variable = variable.dropna()\n",
    "    #calculamos los límites\n",
    "    media = np.mean(variable)\n",
    "    sd = np.std(variable)\n",
    "    umbral = sd * num_desv_tip\n",
    "    lim_inf = media - umbral\n",
    "    lim_sup = media + umbral\n",
    "    #encontramos los índices de los que están fuera de los límites\n",
    "    indices = [indice for indice,valor in variable.items() if valor < lim_inf or valor > lim_sup]\n",
    "    return(indices)"
   ]
  },
  {
   "cell_type": "markdown",
   "id": "768e7398",
   "metadata": {},
   "source": [
    "###### Función que cuenta el número de atípicos"
   ]
  },
  {
   "cell_type": "code",
   "execution_count": 12,
   "id": "5c8f4462",
   "metadata": {},
   "outputs": [],
   "source": [
    "def conteo_atipicos(df,variable, num_desv_tip = 4):\n",
    "    atipicos = atipicos_desv_tip(df[variable], num_desv_tip)\n",
    "    return(df.loc[atipicos,variable].value_counts())"
   ]
  },
  {
   "cell_type": "code",
   "execution_count": 13,
   "id": "392c25c0",
   "metadata": {},
   "outputs": [
    {
     "data": {
      "text/html": [
       "<div>\n",
       "<style scoped>\n",
       "    .dataframe tbody tr th:only-of-type {\n",
       "        vertical-align: middle;\n",
       "    }\n",
       "\n",
       "    .dataframe tbody tr th {\n",
       "        vertical-align: top;\n",
       "    }\n",
       "\n",
       "    .dataframe thead th {\n",
       "        text-align: right;\n",
       "    }\n",
       "</style>\n",
       "<table border=\"1\" class=\"dataframe\">\n",
       "  <thead>\n",
       "    <tr style=\"text-align: right;\">\n",
       "      <th></th>\n",
       "      <th>edad</th>\n",
       "      <th>trabajo</th>\n",
       "      <th>estado</th>\n",
       "      <th>educacion</th>\n",
       "      <th>impagos</th>\n",
       "      <th>prestamo_hipotecario</th>\n",
       "      <th>prestamo_personal</th>\n",
       "      <th>canal_contacto</th>\n",
       "      <th>mes</th>\n",
       "      <th>dia_semana</th>\n",
       "      <th>...</th>\n",
       "      <th>num_contactos_esta_semana</th>\n",
       "      <th>num_dias_ultimo_contacto</th>\n",
       "      <th>num_contactos_otras_campañas</th>\n",
       "      <th>resultado_campana_anterior</th>\n",
       "      <th>variacion_tasa_empleo</th>\n",
       "      <th>cons.price.idx</th>\n",
       "      <th>cons.conf.idx</th>\n",
       "      <th>euribor3m</th>\n",
       "      <th>nr.employed</th>\n",
       "      <th>y</th>\n",
       "    </tr>\n",
       "  </thead>\n",
       "  <tbody>\n",
       "    <tr>\n",
       "      <th>0</th>\n",
       "      <td>56</td>\n",
       "      <td>housemaid</td>\n",
       "      <td>married</td>\n",
       "      <td>basic.4y</td>\n",
       "      <td>no</td>\n",
       "      <td>no</td>\n",
       "      <td>no</td>\n",
       "      <td>telephone</td>\n",
       "      <td>may</td>\n",
       "      <td>mon</td>\n",
       "      <td>...</td>\n",
       "      <td>1</td>\n",
       "      <td>999</td>\n",
       "      <td>0</td>\n",
       "      <td>nonexistent</td>\n",
       "      <td>1.1</td>\n",
       "      <td>93.994</td>\n",
       "      <td>-36.4</td>\n",
       "      <td>4.857</td>\n",
       "      <td>5191.0</td>\n",
       "      <td>no</td>\n",
       "    </tr>\n",
       "    <tr>\n",
       "      <th>1</th>\n",
       "      <td>57</td>\n",
       "      <td>services</td>\n",
       "      <td>married</td>\n",
       "      <td>high.school</td>\n",
       "      <td>unknown</td>\n",
       "      <td>no</td>\n",
       "      <td>no</td>\n",
       "      <td>telephone</td>\n",
       "      <td>may</td>\n",
       "      <td>mon</td>\n",
       "      <td>...</td>\n",
       "      <td>1</td>\n",
       "      <td>999</td>\n",
       "      <td>0</td>\n",
       "      <td>nonexistent</td>\n",
       "      <td>1.1</td>\n",
       "      <td>93.994</td>\n",
       "      <td>-36.4</td>\n",
       "      <td>4.857</td>\n",
       "      <td>5191.0</td>\n",
       "      <td>no</td>\n",
       "    </tr>\n",
       "    <tr>\n",
       "      <th>2</th>\n",
       "      <td>37</td>\n",
       "      <td>services</td>\n",
       "      <td>married</td>\n",
       "      <td>high.school</td>\n",
       "      <td>no</td>\n",
       "      <td>yes</td>\n",
       "      <td>no</td>\n",
       "      <td>telephone</td>\n",
       "      <td>may</td>\n",
       "      <td>mon</td>\n",
       "      <td>...</td>\n",
       "      <td>1</td>\n",
       "      <td>999</td>\n",
       "      <td>0</td>\n",
       "      <td>nonexistent</td>\n",
       "      <td>1.1</td>\n",
       "      <td>93.994</td>\n",
       "      <td>-36.4</td>\n",
       "      <td>4.857</td>\n",
       "      <td>5191.0</td>\n",
       "      <td>no</td>\n",
       "    </tr>\n",
       "    <tr>\n",
       "      <th>3</th>\n",
       "      <td>40</td>\n",
       "      <td>admin.</td>\n",
       "      <td>married</td>\n",
       "      <td>basic.6y</td>\n",
       "      <td>no</td>\n",
       "      <td>no</td>\n",
       "      <td>no</td>\n",
       "      <td>telephone</td>\n",
       "      <td>may</td>\n",
       "      <td>mon</td>\n",
       "      <td>...</td>\n",
       "      <td>1</td>\n",
       "      <td>999</td>\n",
       "      <td>0</td>\n",
       "      <td>nonexistent</td>\n",
       "      <td>1.1</td>\n",
       "      <td>93.994</td>\n",
       "      <td>-36.4</td>\n",
       "      <td>4.857</td>\n",
       "      <td>5191.0</td>\n",
       "      <td>no</td>\n",
       "    </tr>\n",
       "    <tr>\n",
       "      <th>4</th>\n",
       "      <td>56</td>\n",
       "      <td>services</td>\n",
       "      <td>married</td>\n",
       "      <td>high.school</td>\n",
       "      <td>no</td>\n",
       "      <td>no</td>\n",
       "      <td>yes</td>\n",
       "      <td>telephone</td>\n",
       "      <td>may</td>\n",
       "      <td>mon</td>\n",
       "      <td>...</td>\n",
       "      <td>1</td>\n",
       "      <td>999</td>\n",
       "      <td>0</td>\n",
       "      <td>nonexistent</td>\n",
       "      <td>1.1</td>\n",
       "      <td>93.994</td>\n",
       "      <td>-36.4</td>\n",
       "      <td>4.857</td>\n",
       "      <td>5191.0</td>\n",
       "      <td>no</td>\n",
       "    </tr>\n",
       "    <tr>\n",
       "      <th>...</th>\n",
       "      <td>...</td>\n",
       "      <td>...</td>\n",
       "      <td>...</td>\n",
       "      <td>...</td>\n",
       "      <td>...</td>\n",
       "      <td>...</td>\n",
       "      <td>...</td>\n",
       "      <td>...</td>\n",
       "      <td>...</td>\n",
       "      <td>...</td>\n",
       "      <td>...</td>\n",
       "      <td>...</td>\n",
       "      <td>...</td>\n",
       "      <td>...</td>\n",
       "      <td>...</td>\n",
       "      <td>...</td>\n",
       "      <td>...</td>\n",
       "      <td>...</td>\n",
       "      <td>...</td>\n",
       "      <td>...</td>\n",
       "      <td>...</td>\n",
       "    </tr>\n",
       "    <tr>\n",
       "      <th>41183</th>\n",
       "      <td>73</td>\n",
       "      <td>retired</td>\n",
       "      <td>married</td>\n",
       "      <td>professional.course</td>\n",
       "      <td>no</td>\n",
       "      <td>yes</td>\n",
       "      <td>no</td>\n",
       "      <td>cellular</td>\n",
       "      <td>nov</td>\n",
       "      <td>fri</td>\n",
       "      <td>...</td>\n",
       "      <td>1</td>\n",
       "      <td>999</td>\n",
       "      <td>0</td>\n",
       "      <td>nonexistent</td>\n",
       "      <td>-1.1</td>\n",
       "      <td>94.767</td>\n",
       "      <td>-50.8</td>\n",
       "      <td>1.028</td>\n",
       "      <td>4963.6</td>\n",
       "      <td>yes</td>\n",
       "    </tr>\n",
       "    <tr>\n",
       "      <th>41184</th>\n",
       "      <td>46</td>\n",
       "      <td>blue-collar</td>\n",
       "      <td>married</td>\n",
       "      <td>professional.course</td>\n",
       "      <td>no</td>\n",
       "      <td>no</td>\n",
       "      <td>no</td>\n",
       "      <td>cellular</td>\n",
       "      <td>nov</td>\n",
       "      <td>fri</td>\n",
       "      <td>...</td>\n",
       "      <td>1</td>\n",
       "      <td>999</td>\n",
       "      <td>0</td>\n",
       "      <td>nonexistent</td>\n",
       "      <td>-1.1</td>\n",
       "      <td>94.767</td>\n",
       "      <td>-50.8</td>\n",
       "      <td>1.028</td>\n",
       "      <td>4963.6</td>\n",
       "      <td>no</td>\n",
       "    </tr>\n",
       "    <tr>\n",
       "      <th>41185</th>\n",
       "      <td>56</td>\n",
       "      <td>retired</td>\n",
       "      <td>married</td>\n",
       "      <td>university.degree</td>\n",
       "      <td>no</td>\n",
       "      <td>yes</td>\n",
       "      <td>no</td>\n",
       "      <td>cellular</td>\n",
       "      <td>nov</td>\n",
       "      <td>fri</td>\n",
       "      <td>...</td>\n",
       "      <td>2</td>\n",
       "      <td>999</td>\n",
       "      <td>0</td>\n",
       "      <td>nonexistent</td>\n",
       "      <td>-1.1</td>\n",
       "      <td>94.767</td>\n",
       "      <td>-50.8</td>\n",
       "      <td>1.028</td>\n",
       "      <td>4963.6</td>\n",
       "      <td>no</td>\n",
       "    </tr>\n",
       "    <tr>\n",
       "      <th>41186</th>\n",
       "      <td>44</td>\n",
       "      <td>technician</td>\n",
       "      <td>married</td>\n",
       "      <td>professional.course</td>\n",
       "      <td>no</td>\n",
       "      <td>no</td>\n",
       "      <td>no</td>\n",
       "      <td>cellular</td>\n",
       "      <td>nov</td>\n",
       "      <td>fri</td>\n",
       "      <td>...</td>\n",
       "      <td>1</td>\n",
       "      <td>999</td>\n",
       "      <td>0</td>\n",
       "      <td>nonexistent</td>\n",
       "      <td>-1.1</td>\n",
       "      <td>94.767</td>\n",
       "      <td>-50.8</td>\n",
       "      <td>1.028</td>\n",
       "      <td>4963.6</td>\n",
       "      <td>yes</td>\n",
       "    </tr>\n",
       "    <tr>\n",
       "      <th>41187</th>\n",
       "      <td>74</td>\n",
       "      <td>retired</td>\n",
       "      <td>married</td>\n",
       "      <td>professional.course</td>\n",
       "      <td>no</td>\n",
       "      <td>yes</td>\n",
       "      <td>no</td>\n",
       "      <td>cellular</td>\n",
       "      <td>nov</td>\n",
       "      <td>fri</td>\n",
       "      <td>...</td>\n",
       "      <td>3</td>\n",
       "      <td>999</td>\n",
       "      <td>1</td>\n",
       "      <td>failure</td>\n",
       "      <td>-1.1</td>\n",
       "      <td>94.767</td>\n",
       "      <td>-50.8</td>\n",
       "      <td>1.028</td>\n",
       "      <td>4963.6</td>\n",
       "      <td>no</td>\n",
       "    </tr>\n",
       "  </tbody>\n",
       "</table>\n",
       "<p>41176 rows × 21 columns</p>\n",
       "</div>"
      ],
      "text/plain": [
       "       edad      trabajo   estado            educacion  impagos  \\\n",
       "0        56    housemaid  married             basic.4y       no   \n",
       "1        57     services  married          high.school  unknown   \n",
       "2        37     services  married          high.school       no   \n",
       "3        40       admin.  married             basic.6y       no   \n",
       "4        56     services  married          high.school       no   \n",
       "...     ...          ...      ...                  ...      ...   \n",
       "41183    73      retired  married  professional.course       no   \n",
       "41184    46  blue-collar  married  professional.course       no   \n",
       "41185    56      retired  married    university.degree       no   \n",
       "41186    44   technician  married  professional.course       no   \n",
       "41187    74      retired  married  professional.course       no   \n",
       "\n",
       "      prestamo_hipotecario prestamo_personal canal_contacto  mes dia_semana  \\\n",
       "0                       no                no      telephone  may        mon   \n",
       "1                       no                no      telephone  may        mon   \n",
       "2                      yes                no      telephone  may        mon   \n",
       "3                       no                no      telephone  may        mon   \n",
       "4                       no               yes      telephone  may        mon   \n",
       "...                    ...               ...            ...  ...        ...   \n",
       "41183                  yes                no       cellular  nov        fri   \n",
       "41184                   no                no       cellular  nov        fri   \n",
       "41185                  yes                no       cellular  nov        fri   \n",
       "41186                   no                no       cellular  nov        fri   \n",
       "41187                  yes                no       cellular  nov        fri   \n",
       "\n",
       "       ...  num_contactos_esta_semana  num_dias_ultimo_contacto  \\\n",
       "0      ...                          1                       999   \n",
       "1      ...                          1                       999   \n",
       "2      ...                          1                       999   \n",
       "3      ...                          1                       999   \n",
       "4      ...                          1                       999   \n",
       "...    ...                        ...                       ...   \n",
       "41183  ...                          1                       999   \n",
       "41184  ...                          1                       999   \n",
       "41185  ...                          2                       999   \n",
       "41186  ...                          1                       999   \n",
       "41187  ...                          3                       999   \n",
       "\n",
       "       num_contactos_otras_campañas  resultado_campana_anterior  \\\n",
       "0                                 0                 nonexistent   \n",
       "1                                 0                 nonexistent   \n",
       "2                                 0                 nonexistent   \n",
       "3                                 0                 nonexistent   \n",
       "4                                 0                 nonexistent   \n",
       "...                             ...                         ...   \n",
       "41183                             0                 nonexistent   \n",
       "41184                             0                 nonexistent   \n",
       "41185                             0                 nonexistent   \n",
       "41186                             0                 nonexistent   \n",
       "41187                             1                     failure   \n",
       "\n",
       "      variacion_tasa_empleo  cons.price.idx  cons.conf.idx  euribor3m  \\\n",
       "0                       1.1          93.994          -36.4      4.857   \n",
       "1                       1.1          93.994          -36.4      4.857   \n",
       "2                       1.1          93.994          -36.4      4.857   \n",
       "3                       1.1          93.994          -36.4      4.857   \n",
       "4                       1.1          93.994          -36.4      4.857   \n",
       "...                     ...             ...            ...        ...   \n",
       "41183                  -1.1          94.767          -50.8      1.028   \n",
       "41184                  -1.1          94.767          -50.8      1.028   \n",
       "41185                  -1.1          94.767          -50.8      1.028   \n",
       "41186                  -1.1          94.767          -50.8      1.028   \n",
       "41187                  -1.1          94.767          -50.8      1.028   \n",
       "\n",
       "       nr.employed    y  \n",
       "0           5191.0   no  \n",
       "1           5191.0   no  \n",
       "2           5191.0   no  \n",
       "3           5191.0   no  \n",
       "4           5191.0   no  \n",
       "...            ...  ...  \n",
       "41183       4963.6  yes  \n",
       "41184       4963.6   no  \n",
       "41185       4963.6   no  \n",
       "41186       4963.6  yes  \n",
       "41187       4963.6   no  \n",
       "\n",
       "[41176 rows x 21 columns]"
      ]
     },
     "execution_count": 13,
     "metadata": {},
     "output_type": "execute_result"
    }
   ],
   "source": [
    "df"
   ]
  },
  {
   "cell_type": "code",
   "execution_count": 14,
   "id": "1291ee82",
   "metadata": {},
   "outputs": [],
   "source": [
    "for variable in var_atipicos_dt:\n",
    "    df.drop(atipicos_desv_tip(df[variable], num_desv_tip),axis = 0, inplace = True)"
   ]
  },
  {
   "cell_type": "code",
   "execution_count": 15,
   "id": "53e2df4d",
   "metadata": {},
   "outputs": [
    {
     "data": {
      "text/html": [
       "<div>\n",
       "<style scoped>\n",
       "    .dataframe tbody tr th:only-of-type {\n",
       "        vertical-align: middle;\n",
       "    }\n",
       "\n",
       "    .dataframe tbody tr th {\n",
       "        vertical-align: top;\n",
       "    }\n",
       "\n",
       "    .dataframe thead th {\n",
       "        text-align: right;\n",
       "    }\n",
       "</style>\n",
       "<table border=\"1\" class=\"dataframe\">\n",
       "  <thead>\n",
       "    <tr style=\"text-align: right;\">\n",
       "      <th></th>\n",
       "      <th>edad</th>\n",
       "      <th>trabajo</th>\n",
       "      <th>estado</th>\n",
       "      <th>educacion</th>\n",
       "      <th>impagos</th>\n",
       "      <th>prestamo_hipotecario</th>\n",
       "      <th>prestamo_personal</th>\n",
       "      <th>canal_contacto</th>\n",
       "      <th>mes</th>\n",
       "      <th>dia_semana</th>\n",
       "      <th>...</th>\n",
       "      <th>num_contactos_esta_semana</th>\n",
       "      <th>num_dias_ultimo_contacto</th>\n",
       "      <th>num_contactos_otras_campañas</th>\n",
       "      <th>resultado_campana_anterior</th>\n",
       "      <th>variacion_tasa_empleo</th>\n",
       "      <th>cons.price.idx</th>\n",
       "      <th>cons.conf.idx</th>\n",
       "      <th>euribor3m</th>\n",
       "      <th>nr.employed</th>\n",
       "      <th>y</th>\n",
       "    </tr>\n",
       "  </thead>\n",
       "  <tbody>\n",
       "    <tr>\n",
       "      <th>0</th>\n",
       "      <td>56</td>\n",
       "      <td>housemaid</td>\n",
       "      <td>married</td>\n",
       "      <td>basic.4y</td>\n",
       "      <td>no</td>\n",
       "      <td>no</td>\n",
       "      <td>no</td>\n",
       "      <td>telephone</td>\n",
       "      <td>may</td>\n",
       "      <td>mon</td>\n",
       "      <td>...</td>\n",
       "      <td>1</td>\n",
       "      <td>999</td>\n",
       "      <td>0</td>\n",
       "      <td>nonexistent</td>\n",
       "      <td>1.1</td>\n",
       "      <td>93.994</td>\n",
       "      <td>-36.4</td>\n",
       "      <td>4.857</td>\n",
       "      <td>5191.0</td>\n",
       "      <td>no</td>\n",
       "    </tr>\n",
       "    <tr>\n",
       "      <th>1</th>\n",
       "      <td>57</td>\n",
       "      <td>services</td>\n",
       "      <td>married</td>\n",
       "      <td>high.school</td>\n",
       "      <td>unknown</td>\n",
       "      <td>no</td>\n",
       "      <td>no</td>\n",
       "      <td>telephone</td>\n",
       "      <td>may</td>\n",
       "      <td>mon</td>\n",
       "      <td>...</td>\n",
       "      <td>1</td>\n",
       "      <td>999</td>\n",
       "      <td>0</td>\n",
       "      <td>nonexistent</td>\n",
       "      <td>1.1</td>\n",
       "      <td>93.994</td>\n",
       "      <td>-36.4</td>\n",
       "      <td>4.857</td>\n",
       "      <td>5191.0</td>\n",
       "      <td>no</td>\n",
       "    </tr>\n",
       "    <tr>\n",
       "      <th>2</th>\n",
       "      <td>37</td>\n",
       "      <td>services</td>\n",
       "      <td>married</td>\n",
       "      <td>high.school</td>\n",
       "      <td>no</td>\n",
       "      <td>yes</td>\n",
       "      <td>no</td>\n",
       "      <td>telephone</td>\n",
       "      <td>may</td>\n",
       "      <td>mon</td>\n",
       "      <td>...</td>\n",
       "      <td>1</td>\n",
       "      <td>999</td>\n",
       "      <td>0</td>\n",
       "      <td>nonexistent</td>\n",
       "      <td>1.1</td>\n",
       "      <td>93.994</td>\n",
       "      <td>-36.4</td>\n",
       "      <td>4.857</td>\n",
       "      <td>5191.0</td>\n",
       "      <td>no</td>\n",
       "    </tr>\n",
       "    <tr>\n",
       "      <th>3</th>\n",
       "      <td>40</td>\n",
       "      <td>admin.</td>\n",
       "      <td>married</td>\n",
       "      <td>basic.6y</td>\n",
       "      <td>no</td>\n",
       "      <td>no</td>\n",
       "      <td>no</td>\n",
       "      <td>telephone</td>\n",
       "      <td>may</td>\n",
       "      <td>mon</td>\n",
       "      <td>...</td>\n",
       "      <td>1</td>\n",
       "      <td>999</td>\n",
       "      <td>0</td>\n",
       "      <td>nonexistent</td>\n",
       "      <td>1.1</td>\n",
       "      <td>93.994</td>\n",
       "      <td>-36.4</td>\n",
       "      <td>4.857</td>\n",
       "      <td>5191.0</td>\n",
       "      <td>no</td>\n",
       "    </tr>\n",
       "    <tr>\n",
       "      <th>4</th>\n",
       "      <td>56</td>\n",
       "      <td>services</td>\n",
       "      <td>married</td>\n",
       "      <td>high.school</td>\n",
       "      <td>no</td>\n",
       "      <td>no</td>\n",
       "      <td>yes</td>\n",
       "      <td>telephone</td>\n",
       "      <td>may</td>\n",
       "      <td>mon</td>\n",
       "      <td>...</td>\n",
       "      <td>1</td>\n",
       "      <td>999</td>\n",
       "      <td>0</td>\n",
       "      <td>nonexistent</td>\n",
       "      <td>1.1</td>\n",
       "      <td>93.994</td>\n",
       "      <td>-36.4</td>\n",
       "      <td>4.857</td>\n",
       "      <td>5191.0</td>\n",
       "      <td>no</td>\n",
       "    </tr>\n",
       "    <tr>\n",
       "      <th>...</th>\n",
       "      <td>...</td>\n",
       "      <td>...</td>\n",
       "      <td>...</td>\n",
       "      <td>...</td>\n",
       "      <td>...</td>\n",
       "      <td>...</td>\n",
       "      <td>...</td>\n",
       "      <td>...</td>\n",
       "      <td>...</td>\n",
       "      <td>...</td>\n",
       "      <td>...</td>\n",
       "      <td>...</td>\n",
       "      <td>...</td>\n",
       "      <td>...</td>\n",
       "      <td>...</td>\n",
       "      <td>...</td>\n",
       "      <td>...</td>\n",
       "      <td>...</td>\n",
       "      <td>...</td>\n",
       "      <td>...</td>\n",
       "      <td>...</td>\n",
       "    </tr>\n",
       "    <tr>\n",
       "      <th>41183</th>\n",
       "      <td>73</td>\n",
       "      <td>retired</td>\n",
       "      <td>married</td>\n",
       "      <td>professional.course</td>\n",
       "      <td>no</td>\n",
       "      <td>yes</td>\n",
       "      <td>no</td>\n",
       "      <td>cellular</td>\n",
       "      <td>nov</td>\n",
       "      <td>fri</td>\n",
       "      <td>...</td>\n",
       "      <td>1</td>\n",
       "      <td>999</td>\n",
       "      <td>0</td>\n",
       "      <td>nonexistent</td>\n",
       "      <td>-1.1</td>\n",
       "      <td>94.767</td>\n",
       "      <td>-50.8</td>\n",
       "      <td>1.028</td>\n",
       "      <td>4963.6</td>\n",
       "      <td>yes</td>\n",
       "    </tr>\n",
       "    <tr>\n",
       "      <th>41184</th>\n",
       "      <td>46</td>\n",
       "      <td>blue-collar</td>\n",
       "      <td>married</td>\n",
       "      <td>professional.course</td>\n",
       "      <td>no</td>\n",
       "      <td>no</td>\n",
       "      <td>no</td>\n",
       "      <td>cellular</td>\n",
       "      <td>nov</td>\n",
       "      <td>fri</td>\n",
       "      <td>...</td>\n",
       "      <td>1</td>\n",
       "      <td>999</td>\n",
       "      <td>0</td>\n",
       "      <td>nonexistent</td>\n",
       "      <td>-1.1</td>\n",
       "      <td>94.767</td>\n",
       "      <td>-50.8</td>\n",
       "      <td>1.028</td>\n",
       "      <td>4963.6</td>\n",
       "      <td>no</td>\n",
       "    </tr>\n",
       "    <tr>\n",
       "      <th>41185</th>\n",
       "      <td>56</td>\n",
       "      <td>retired</td>\n",
       "      <td>married</td>\n",
       "      <td>university.degree</td>\n",
       "      <td>no</td>\n",
       "      <td>yes</td>\n",
       "      <td>no</td>\n",
       "      <td>cellular</td>\n",
       "      <td>nov</td>\n",
       "      <td>fri</td>\n",
       "      <td>...</td>\n",
       "      <td>2</td>\n",
       "      <td>999</td>\n",
       "      <td>0</td>\n",
       "      <td>nonexistent</td>\n",
       "      <td>-1.1</td>\n",
       "      <td>94.767</td>\n",
       "      <td>-50.8</td>\n",
       "      <td>1.028</td>\n",
       "      <td>4963.6</td>\n",
       "      <td>no</td>\n",
       "    </tr>\n",
       "    <tr>\n",
       "      <th>41186</th>\n",
       "      <td>44</td>\n",
       "      <td>technician</td>\n",
       "      <td>married</td>\n",
       "      <td>professional.course</td>\n",
       "      <td>no</td>\n",
       "      <td>no</td>\n",
       "      <td>no</td>\n",
       "      <td>cellular</td>\n",
       "      <td>nov</td>\n",
       "      <td>fri</td>\n",
       "      <td>...</td>\n",
       "      <td>1</td>\n",
       "      <td>999</td>\n",
       "      <td>0</td>\n",
       "      <td>nonexistent</td>\n",
       "      <td>-1.1</td>\n",
       "      <td>94.767</td>\n",
       "      <td>-50.8</td>\n",
       "      <td>1.028</td>\n",
       "      <td>4963.6</td>\n",
       "      <td>yes</td>\n",
       "    </tr>\n",
       "    <tr>\n",
       "      <th>41187</th>\n",
       "      <td>74</td>\n",
       "      <td>retired</td>\n",
       "      <td>married</td>\n",
       "      <td>professional.course</td>\n",
       "      <td>no</td>\n",
       "      <td>yes</td>\n",
       "      <td>no</td>\n",
       "      <td>cellular</td>\n",
       "      <td>nov</td>\n",
       "      <td>fri</td>\n",
       "      <td>...</td>\n",
       "      <td>3</td>\n",
       "      <td>999</td>\n",
       "      <td>1</td>\n",
       "      <td>failure</td>\n",
       "      <td>-1.1</td>\n",
       "      <td>94.767</td>\n",
       "      <td>-50.8</td>\n",
       "      <td>1.028</td>\n",
       "      <td>4963.6</td>\n",
       "      <td>no</td>\n",
       "    </tr>\n",
       "  </tbody>\n",
       "</table>\n",
       "<p>41077 rows × 21 columns</p>\n",
       "</div>"
      ],
      "text/plain": [
       "       edad      trabajo   estado            educacion  impagos  \\\n",
       "0        56    housemaid  married             basic.4y       no   \n",
       "1        57     services  married          high.school  unknown   \n",
       "2        37     services  married          high.school       no   \n",
       "3        40       admin.  married             basic.6y       no   \n",
       "4        56     services  married          high.school       no   \n",
       "...     ...          ...      ...                  ...      ...   \n",
       "41183    73      retired  married  professional.course       no   \n",
       "41184    46  blue-collar  married  professional.course       no   \n",
       "41185    56      retired  married    university.degree       no   \n",
       "41186    44   technician  married  professional.course       no   \n",
       "41187    74      retired  married  professional.course       no   \n",
       "\n",
       "      prestamo_hipotecario prestamo_personal canal_contacto  mes dia_semana  \\\n",
       "0                       no                no      telephone  may        mon   \n",
       "1                       no                no      telephone  may        mon   \n",
       "2                      yes                no      telephone  may        mon   \n",
       "3                       no                no      telephone  may        mon   \n",
       "4                       no               yes      telephone  may        mon   \n",
       "...                    ...               ...            ...  ...        ...   \n",
       "41183                  yes                no       cellular  nov        fri   \n",
       "41184                   no                no       cellular  nov        fri   \n",
       "41185                  yes                no       cellular  nov        fri   \n",
       "41186                   no                no       cellular  nov        fri   \n",
       "41187                  yes                no       cellular  nov        fri   \n",
       "\n",
       "       ...  num_contactos_esta_semana  num_dias_ultimo_contacto  \\\n",
       "0      ...                          1                       999   \n",
       "1      ...                          1                       999   \n",
       "2      ...                          1                       999   \n",
       "3      ...                          1                       999   \n",
       "4      ...                          1                       999   \n",
       "...    ...                        ...                       ...   \n",
       "41183  ...                          1                       999   \n",
       "41184  ...                          1                       999   \n",
       "41185  ...                          2                       999   \n",
       "41186  ...                          1                       999   \n",
       "41187  ...                          3                       999   \n",
       "\n",
       "       num_contactos_otras_campañas  resultado_campana_anterior  \\\n",
       "0                                 0                 nonexistent   \n",
       "1                                 0                 nonexistent   \n",
       "2                                 0                 nonexistent   \n",
       "3                                 0                 nonexistent   \n",
       "4                                 0                 nonexistent   \n",
       "...                             ...                         ...   \n",
       "41183                             0                 nonexistent   \n",
       "41184                             0                 nonexistent   \n",
       "41185                             0                 nonexistent   \n",
       "41186                             0                 nonexistent   \n",
       "41187                             1                     failure   \n",
       "\n",
       "      variacion_tasa_empleo  cons.price.idx  cons.conf.idx  euribor3m  \\\n",
       "0                       1.1          93.994          -36.4      4.857   \n",
       "1                       1.1          93.994          -36.4      4.857   \n",
       "2                       1.1          93.994          -36.4      4.857   \n",
       "3                       1.1          93.994          -36.4      4.857   \n",
       "4                       1.1          93.994          -36.4      4.857   \n",
       "...                     ...             ...            ...        ...   \n",
       "41183                  -1.1          94.767          -50.8      1.028   \n",
       "41184                  -1.1          94.767          -50.8      1.028   \n",
       "41185                  -1.1          94.767          -50.8      1.028   \n",
       "41186                  -1.1          94.767          -50.8      1.028   \n",
       "41187                  -1.1          94.767          -50.8      1.028   \n",
       "\n",
       "       nr.employed    y  \n",
       "0           5191.0   no  \n",
       "1           5191.0   no  \n",
       "2           5191.0   no  \n",
       "3           5191.0   no  \n",
       "4           5191.0   no  \n",
       "...            ...  ...  \n",
       "41183       4963.6  yes  \n",
       "41184       4963.6   no  \n",
       "41185       4963.6   no  \n",
       "41186       4963.6  yes  \n",
       "41187       4963.6   no  \n",
       "\n",
       "[41077 rows x 21 columns]"
      ]
     },
     "execution_count": 15,
     "metadata": {},
     "output_type": "execute_result"
    }
   ],
   "source": [
    "df"
   ]
  },
  {
   "cell_type": "markdown",
   "id": "22d129d8",
   "metadata": {},
   "source": [
    "#### EDA "
   ]
  },
  {
   "cell_type": "code",
   "execution_count": 16,
   "id": "22a8cb38",
   "metadata": {},
   "outputs": [],
   "source": [
    "df.drop('impagos', axis = 1, inplace = True)"
   ]
  },
  {
   "cell_type": "code",
   "execution_count": 17,
   "id": "11403f28",
   "metadata": {},
   "outputs": [],
   "source": [
    "df = df[(df['prestamo_hipotecario'] != 'unknown') & (df['prestamo_personal'] != 'unknown')]"
   ]
  },
  {
   "cell_type": "markdown",
   "id": "9f90d327",
   "metadata": {},
   "source": [
    "#### Para x"
   ]
  },
  {
   "cell_type": "markdown",
   "id": "024faf5e",
   "metadata": {},
   "source": [
    "Quedarse solo con las de la lista."
   ]
  },
  {
   "cell_type": "code",
   "execution_count": 18,
   "id": "eb115fbf",
   "metadata": {},
   "outputs": [],
   "source": [
    "x = df[variables_finales].copy()"
   ]
  },
  {
   "cell_type": "markdown",
   "id": "e746ec8d",
   "metadata": {},
   "source": [
    "#### Para y"
   ]
  },
  {
   "cell_type": "markdown",
   "id": "84fd6267",
   "metadata": {},
   "source": [
    "Especificar la target."
   ]
  },
  {
   "cell_type": "code",
   "execution_count": 19,
   "id": "e8cef3f3",
   "metadata": {},
   "outputs": [],
   "source": [
    "target = 'y'"
   ]
  },
  {
   "cell_type": "markdown",
   "id": "a11b8afe",
   "metadata": {},
   "source": [
    "Crear el y."
   ]
  },
  {
   "cell_type": "code",
   "execution_count": 20,
   "id": "d926d93f",
   "metadata": {},
   "outputs": [],
   "source": [
    "y = df[target].copy()"
   ]
  },
  {
   "cell_type": "markdown",
   "id": "99bb2255",
   "metadata": {},
   "source": [
    "## CREAR EL PIPELINE"
   ]
  },
  {
   "cell_type": "markdown",
   "id": "6d6e8fca",
   "metadata": {},
   "source": [
    "### Instanciar calidad de datos"
   ]
  },
  {
   "cell_type": "markdown",
   "id": "06178080",
   "metadata": {},
   "source": [
    "#### Crear la función"
   ]
  },
  {
   "cell_type": "code",
   "execution_count": 21,
   "id": "98177b43",
   "metadata": {},
   "outputs": [],
   "source": [
    "def calidad_datos(df):\n",
    "    temp = df.astype({'edad': 'Int64'})             \n",
    "    \n",
    "    return(temp)"
   ]
  },
  {
   "cell_type": "markdown",
   "id": "95bd7490",
   "metadata": {},
   "source": [
    "#### Convertirla en transformer"
   ]
  },
  {
   "cell_type": "code",
   "execution_count": 22,
   "id": "6805f964",
   "metadata": {},
   "outputs": [],
   "source": [
    "hacer_calidad_datos = FunctionTransformer(calidad_datos)"
   ]
  },
  {
   "cell_type": "markdown",
   "id": "88e57147",
   "metadata": {},
   "source": [
    "### Instanciar transformación de variables"
   ]
  },
  {
   "cell_type": "code",
   "execution_count": 23,
   "id": "ee711664",
   "metadata": {},
   "outputs": [],
   "source": [
    "var_ohe = ['canal_contacto','dia_semana','estado','mes','prestamo_hipotecario','trabajo']\n",
    "ohe = OneHotEncoder(sparse_output= False, handle_unknown='ignore')\n",
    "\n",
    "var_disc_ds = ['edad']\n",
    "disc_ds = KBinsDiscretizer(n_bins = 6, strategy = 'uniform', encode = 'ordinal')\n",
    "\n",
    "var_bin = ['variacion_tasa_empleo']\n",
    "bin = Binarizer(threshold=0)\n",
    "\n",
    "var_mms = ['edad','variacion_tasa_empleo']\n",
    "mms = MinMaxScaler()"
   ]
  },
  {
   "cell_type": "markdown",
   "id": "eaf3f141",
   "metadata": {},
   "source": [
    "### Crear el pipe del preprocesamiento"
   ]
  },
  {
   "cell_type": "markdown",
   "id": "8d7b7821",
   "metadata": {},
   "source": [
    "#### Crear el column transformer"
   ]
  },
  {
   "cell_type": "code",
   "execution_count": 24,
   "id": "e577b34d",
   "metadata": {},
   "outputs": [],
   "source": [
    "ct = make_column_transformer(\n",
    "    (ohe, var_ohe),\n",
    "    (disc_ds, var_disc_ds),\n",
    "    (bin, var_bin),\n",
    "    (mms, var_mms),\n",
    "    remainder='drop')"
   ]
  },
  {
   "cell_type": "markdown",
   "id": "5de30e37",
   "metadata": {},
   "source": [
    "#### Crear el pipeline del preprocesamiento"
   ]
  },
  {
   "cell_type": "code",
   "execution_count": 25,
   "id": "54e1300d",
   "metadata": {},
   "outputs": [],
   "source": [
    "pipe_prepro = make_pipeline(hacer_calidad_datos, \n",
    "                            ct)"
   ]
  },
  {
   "cell_type": "markdown",
   "id": "d4b08601",
   "metadata": {},
   "source": [
    "### Instanciar el modelo"
   ]
  },
  {
   "cell_type": "markdown",
   "id": "b64c9e60",
   "metadata": {},
   "source": [
    "#### Instanciar el algoritmo"
   ]
  },
  {
   "cell_type": "code",
   "execution_count": 26,
   "id": "952e87a7",
   "metadata": {},
   "outputs": [],
   "source": [
    "modelo = RandomForestClassifier(max_depth=5, n_estimators=200, n_jobs=-1)"
   ]
  },
  {
   "cell_type": "markdown",
   "id": "80f8e2f3",
   "metadata": {},
   "source": [
    "#### Crear el pipe final de entrenamiento"
   ]
  },
  {
   "cell_type": "code",
   "execution_count": 27,
   "id": "0efb038b",
   "metadata": {},
   "outputs": [],
   "source": [
    "pipe_entrenamiento = make_pipeline(pipe_prepro,modelo)"
   ]
  },
  {
   "cell_type": "markdown",
   "id": "cb0700d8",
   "metadata": {},
   "source": [
    "#### Guardar el pipe final de entrenamiento"
   ]
  },
  {
   "cell_type": "code",
   "execution_count": 28,
   "id": "71715e9c",
   "metadata": {},
   "outputs": [],
   "source": [
    "nombre_pipe_entrenamiento = 'pipe_entrenamiento.pickle'\n",
    "\n",
    "ruta_pipe_entrenamiento = ruta_proyecto + '/04_Modelos/' + nombre_pipe_entrenamiento\n",
    "\n",
    "with open(ruta_pipe_entrenamiento, mode='wb') as file:\n",
    "   cloudpickle.dump(pipe_entrenamiento, file)"
   ]
  },
  {
   "cell_type": "markdown",
   "id": "2c7e5ed1",
   "metadata": {},
   "source": [
    "#### Entrenar el pipe final de ejecución"
   ]
  },
  {
   "cell_type": "code",
   "execution_count": 29,
   "id": "13ca2db6",
   "metadata": {},
   "outputs": [],
   "source": [
    "pipe_ejecucion = pipe_entrenamiento.fit(x,y)"
   ]
  },
  {
   "cell_type": "markdown",
   "id": "52e506db",
   "metadata": {},
   "source": [
    "## GUARDAR EL PIPE"
   ]
  },
  {
   "cell_type": "markdown",
   "id": "86a5de63",
   "metadata": {},
   "source": [
    "### Nombre del pipe final de ejecución"
   ]
  },
  {
   "cell_type": "code",
   "execution_count": 30,
   "id": "967c6480",
   "metadata": {},
   "outputs": [],
   "source": [
    "nombre_pipe_ejecucion = 'pipe_ejecucion.pickle'"
   ]
  },
  {
   "cell_type": "markdown",
   "id": "afba8bc8",
   "metadata": {},
   "source": [
    "### Guardar el pipe final de ejecución"
   ]
  },
  {
   "cell_type": "code",
   "execution_count": 31,
   "id": "1dda8f25",
   "metadata": {},
   "outputs": [],
   "source": [
    "ruta_pipe_ejecucion = ruta_proyecto + '/04_Modelos/' + nombre_pipe_ejecucion\n",
    "\n",
    "with open(ruta_pipe_ejecucion, mode='wb') as file:\n",
    "   cloudpickle.dump(pipe_ejecucion, file)"
   ]
  }
 ],
 "metadata": {
  "kernelspec": {
   "display_name": "Python 3 (ipykernel)",
   "language": "python",
   "name": "python3"
  },
  "language_info": {
   "codemirror_mode": {
    "name": "ipython",
    "version": 3
   },
   "file_extension": ".py",
   "mimetype": "text/x-python",
   "name": "python",
   "nbconvert_exporter": "python",
   "pygments_lexer": "ipython3",
   "version": "3.12.3"
  },
  "toc": {
   "base_numbering": 1,
   "nav_menu": {},
   "number_sections": true,
   "sideBar": true,
   "skip_h1_title": false,
   "title_cell": "Table of Contents",
   "title_sidebar": "Contents",
   "toc_cell": false,
   "toc_position": {
    "height": "calc(100% - 180px)",
    "left": "10px",
    "top": "150px",
    "width": "383.367px"
   },
   "toc_section_display": true,
   "toc_window_display": true
  },
  "varInspector": {
   "cols": {
    "lenName": 16,
    "lenType": 16,
    "lenVar": 40
   },
   "kernels_config": {
    "python": {
     "delete_cmd_postfix": "",
     "delete_cmd_prefix": "del ",
     "library": "var_list.py",
     "varRefreshCmd": "print(var_dic_list())"
    },
    "r": {
     "delete_cmd_postfix": ") ",
     "delete_cmd_prefix": "rm(",
     "library": "var_list.r",
     "varRefreshCmd": "cat(var_dic_list()) "
    }
   },
   "types_to_exclude": [
    "module",
    "function",
    "builtin_function_or_method",
    "instance",
    "_Feature"
   ],
   "window_display": false
  }
 },
 "nbformat": 4,
 "nbformat_minor": 5
}
