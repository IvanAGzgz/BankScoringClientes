{
 "cells": [
  {
   "cell_type": "markdown",
   "id": "c7f65e25",
   "metadata": {},
   "source": [
    "# CODIGO DE EJECUCION"
   ]
  },
  {
   "cell_type": "markdown",
   "id": "73a0f588",
   "metadata": {},
   "source": [
    "*NOTA: Para poder usar este código de ejecución hay que lanzarlo desde exactamente el mismo entorno en el que fue creado.*\n",
    "\n",
    "*Se puede instalar ese entorno en la nueva máquina usando el environment.yml que creamos en el set up del proyecto*\n",
    "\n",
    "*Copiar el proyecto1.yml al directorio y en el terminal o anaconda prompt ejecutar:*\n",
    "\n",
    "conda env create --file proyecto1.yml --name proyecto1"
   ]
  },
  {
   "cell_type": "code",
   "execution_count": 1,
   "id": "a4bf076a",
   "metadata": {},
   "outputs": [],
   "source": [
    "import cloudpickle\n",
    "import pandas as pd\n",
    "from janitor import clean_names\n",
    "\n",
    "import warnings\n",
    "warnings.filterwarnings(\"ignore\")\n",
    "\n",
    "ruta_proyecto = r'C:\\Users\\iagzg\\Desktop\\D4FB\\D4FB\\EstructuraDirectorio\\03_MACHINE_LEARNING\\06-MACHINE LEARNING PROJECT FRAMEWORK\\CASOS\\04_BANK\\\\'\n",
    "\n",
    "nombre_fichero_datos = 'validacion.csv'\n",
    "\n",
    "ruta_completa = ruta_proyecto + '/02_Datos/02_Validacion/' + nombre_fichero_datos\n",
    "\n",
    "df = pd.read_csv(ruta_completa)\n",
    "\n",
    "df.rename(columns = {'age':'edad',\n",
    "                     'job':'trabajo',\n",
    "                     'marital':'estado',\n",
    "                     'education':'educacion',\n",
    "                     'default':'impagos',\n",
    "                     'housing':'prestamo_hipotecario',\n",
    "                     'loan':'prestamo_personal',\n",
    "                     'contact':'canal_contacto',\n",
    "                     'month':'mes',\n",
    "                     'day_of_week':'dia_semana',\n",
    "                     'campaign':'num_contactos_esta_semana',\n",
    "                     'pdays':'num_dias_ultimo_contacto',\n",
    "                     'previous':'num_contactos_otras_campañas',\n",
    "                     'poutcome':'resultado_campana_anterior',\n",
    "                     'emp.var.rate':'variacion_tasa_empleo'\n",
    "                    }, inplace=True) \n",
    "variables_finales = ['canal_contacto',\n",
    "                     'dia_semana',\n",
    "                     'edad',\n",
    "                     'estado',\n",
    "                     'mes',\n",
    "                     'prestamo_hipotecario',\n",
    "                     'trabajo',              \n",
    "                     'variacion_tasa_empleo']\n",
    "\n",
    "#Atipicos\n",
    "num_desv_tip = 4\n",
    "\n",
    "var_atipicos_dt = ['edad','variacion_tasa_empleo']\n",
    "\n",
    "def atipicos_desv_tip(variable, num_desv_tip = 4):\n",
    "    #sacamos los nulos por ahora\n",
    "    variable = variable.dropna()\n",
    "    #calculamos los límites\n",
    "    media = np.mean(variable)\n",
    "    sd = np.std(variable)\n",
    "    umbral = sd * num_desv_tip\n",
    "    lim_inf = media - umbral\n",
    "    lim_sup = media + umbral\n",
    "    #encontramos los índices de los que están fuera de los límites\n",
    "    indices = [indice for indice,valor in variable.items() if valor < lim_inf or valor > lim_sup]\n",
    "    return(indices)\n",
    "\n",
    "def conteo_atipicos(df,variable, num_desv_tip = 4):\n",
    "    atipicos = atipicos_desv_tip(df[variable], num_desv_tip)\n",
    "    return(df.loc[atipicos,variable].value_counts())\n",
    "\n",
    "for variable in var_atipicos_dt:\n",
    "    df.drop(atipicos_desv_tip(df[variable], num_desv_tip),axis = 0, inplace = True)\n",
    "    \n",
    "df.drop('impagos', axis = 1, inplace = True)    \n",
    "\n",
    "df = df[(df['prestamo_hipotecario'] != 'unknown') & (df['prestamo_personal'] != 'unknown')]    \n",
    "\n",
    "                     \n",
    "df = df[variables_finales]\n",
    "\n",
    "nombre_pipe_ejecucion = 'pipe_ejecucion.pickle'\n",
    "\n",
    "ruta_pipe_ejecucion = ruta_proyecto + '/04_Modelos/' + nombre_pipe_ejecucion\n",
    "\n",
    "with open(ruta_pipe_ejecucion, mode='rb') as file:\n",
    "   pipe_ejecucion = cloudpickle.load(file)\n",
    "\n",
    "scoring = pipe_ejecucion.predict_proba(df)[:, 1]    "
   ]
  },
  {
   "cell_type": "code",
   "execution_count": null,
   "id": "0a0f33da",
   "metadata": {},
   "outputs": [],
   "source": []
  }
 ],
 "metadata": {
  "kernelspec": {
   "display_name": "Python 3 (ipykernel)",
   "language": "python",
   "name": "python3"
  },
  "language_info": {
   "codemirror_mode": {
    "name": "ipython",
    "version": 3
   },
   "file_extension": ".py",
   "mimetype": "text/x-python",
   "name": "python",
   "nbconvert_exporter": "python",
   "pygments_lexer": "ipython3",
   "version": "3.12.3"
  },
  "toc": {
   "base_numbering": 1,
   "nav_menu": {},
   "number_sections": true,
   "sideBar": true,
   "skip_h1_title": false,
   "title_cell": "Table of Contents",
   "title_sidebar": "Contents",
   "toc_cell": false,
   "toc_position": {},
   "toc_section_display": true,
   "toc_window_display": true
  },
  "varInspector": {
   "cols": {
    "lenName": 16,
    "lenType": 16,
    "lenVar": 40
   },
   "kernels_config": {
    "python": {
     "delete_cmd_postfix": "",
     "delete_cmd_prefix": "del ",
     "library": "var_list.py",
     "varRefreshCmd": "print(var_dic_list())"
    },
    "r": {
     "delete_cmd_postfix": ") ",
     "delete_cmd_prefix": "rm(",
     "library": "var_list.r",
     "varRefreshCmd": "cat(var_dic_list()) "
    }
   },
   "position": {
    "height": "388.85px",
    "left": "1070px",
    "right": "20px",
    "top": "120px",
    "width": "350px"
   },
   "types_to_exclude": [
    "module",
    "function",
    "builtin_function_or_method",
    "instance",
    "_Feature"
   ],
   "window_display": false
  }
 },
 "nbformat": 4,
 "nbformat_minor": 5
}
